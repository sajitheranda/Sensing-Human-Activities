{
 "cells": [
  {
   "cell_type": "markdown",
   "metadata": {},
   "source": [
    "### RNN Assignment"
   ]
  },
  {
   "cell_type": "markdown",
   "metadata": {},
   "source": [
    "import needed libraries"
   ]
  },
  {
   "cell_type": "code",
   "execution_count": 65,
   "metadata": {},
   "outputs": [],
   "source": [
    "import numpy as np\n",
    "import pandas as pd\n",
    "from keras.utils.np_utils import to_categorical\n",
    "from keras.layers import GRU, Dropout\n",
    "from keras.models import Sequential\n",
    "from keras.layers import LSTM, SimpleRNN, Dense\n",
    "import keras"
   ]
  },
  {
   "cell_type": "markdown",
   "metadata": {},
   "source": [
    "import data"
   ]
  },
  {
   "cell_type": "markdown",
   "metadata": {},
   "source": [
    "get max length"
   ]
  },
  {
   "cell_type": "code",
   "execution_count": 66,
   "metadata": {},
   "outputs": [],
   "source": [
    "max_len=0\n",
    "all_data_x=[]\n",
    "all_data_y=[]\n",
    "for subject_id in range(1, 11):\n",
    "    file_name = f\"mHealth_subject{subject_id}.log\"\n",
    "    \n",
    "    with open(file_name, \"r\", encoding=\"utf8\") as file:\n",
    "        count={}\n",
    "        prev_label=0\n",
    "        data=[]\n",
    "        for line in file:\n",
    "            tokens = line.split()\n",
    "            label = int(tokens[-1])\n",
    "            if(label!= 0):\n",
    "                if(prev_label!=label and prev_label!=0):\n",
    "                    all_data_x.append(data)\n",
    "                    all_data_y.append(prev_label)\n",
    "                    count[prev_label]=len(data)\n",
    "                           \n",
    "                columns=len(tokens)-1\n",
    "                if(prev_label !=label):\n",
    "                    data+=[tokens[:-1]]\n",
    "                prev_label=label\n",
    "            \n",
    "        # print(count)\n",
    "        all_data_x.append(data)\n",
    "        all_data_y.append(prev_label)\n",
    "        count[prev_label]=len(data)\n",
    "        for value in count.values():\n",
    "            if(value>max_len):\n",
    "                max_len=value\n",
    "                "
   ]
  },
  {
   "cell_type": "markdown",
   "metadata": {},
   "source": [
    "print the maximum length"
   ]
  },
  {
   "cell_type": "code",
   "execution_count": 67,
   "metadata": {},
   "outputs": [
    {
     "name": "stdout",
     "output_type": "stream",
     "text": [
      "maximun lenth of data = 12\n"
     ]
    }
   ],
   "source": [
    "print(\"maximun lenth of data =\",max_len)"
   ]
  },
  {
   "cell_type": "code",
   "execution_count": 68,
   "metadata": {},
   "outputs": [],
   "source": [
    "max_column=23 ## using question\n",
    "num_labels=12\n",
    "data_count=10*num_labels"
   ]
  },
  {
   "cell_type": "code",
   "execution_count": 69,
   "metadata": {},
   "outputs": [],
   "source": [
    "def get_em_data(data,max_len,max_column):\n",
    "    embedding_data= np.zeros((len(data), max_len, max_column))\n",
    "    \n",
    "    for index in range(len(data)):\n",
    "        num_times=len(data[index])\n",
    "        for i in range(num_times):\n",
    "            embedding_data[index][i]= np.array(data[index][i], dtype=float)\n",
    "    return embedding_data"
   ]
  },
  {
   "cell_type": "markdown",
   "metadata": {},
   "source": [
    "Convert into numpy array"
   ]
  },
  {
   "cell_type": "code",
   "execution_count": 70,
   "metadata": {},
   "outputs": [],
   "source": [
    "y_array=np.array(all_data_y)"
   ]
  },
  {
   "cell_type": "markdown",
   "metadata": {},
   "source": [
    "print a sample array"
   ]
  },
  {
   "cell_type": "code",
   "execution_count": 71,
   "metadata": {},
   "outputs": [
    {
     "data": {
      "text/plain": [
       "array([ 1,  2,  3,  4,  6,  7,  8,  9, 10, 11, 12,  5,  5,  1,  2,  3,  4,\n",
       "        6,  7,  8, 10, 11, 12,  9,  1,  2,  3,  4,  6,  7,  8,  9, 10, 11,\n",
       "       12,  5,  5,  1,  2,  3,  4,  6,  7,  8,  9, 10, 11, 12,  1,  2,  3,\n",
       "        4,  6,  7,  8,  9, 10, 11, 12,  5,  1,  2,  3,  4,  6,  7,  8,  9,\n",
       "       10, 11, 12,  5,  5,  1,  2,  3,  4,  6,  7,  8,  9, 10, 11, 12,  1,\n",
       "        3,  2,  4,  5,  6,  7,  8,  9, 10, 11, 12,  1,  2,  3,  4,  6,  7,\n",
       "        8,  9, 10, 11, 12,  5,  5,  1,  2,  3,  4,  6,  7,  8,  9, 10, 11,\n",
       "       12])"
      ]
     },
     "execution_count": 71,
     "metadata": {},
     "output_type": "execute_result"
    }
   ],
   "source": [
    "y_array"
   ]
  },
  {
   "cell_type": "code",
   "execution_count": 72,
   "metadata": {},
   "outputs": [],
   "source": [
    "x_array=get_em_data(all_data_x,max_len +1,max_column)"
   ]
  },
  {
   "cell_type": "markdown",
   "metadata": {},
   "source": [
    "convert to categorical"
   ]
  },
  {
   "cell_type": "code",
   "execution_count": 73,
   "metadata": {},
   "outputs": [],
   "source": [
    "y_convert =y_array-1\n",
    "y_array_c = to_categorical(y_convert)\n"
   ]
  },
  {
   "cell_type": "markdown",
   "metadata": {},
   "source": [
    "create a model"
   ]
  },
  {
   "cell_type": "code",
   "execution_count": 74,
   "metadata": {},
   "outputs": [],
   "source": [
    "model = Sequential()"
   ]
  },
  {
   "cell_type": "code",
   "execution_count": 75,
   "metadata": {},
   "outputs": [
    {
     "name": "stdout",
     "output_type": "stream",
     "text": [
      "23\n"
     ]
    }
   ],
   "source": [
    "print(max_column)"
   ]
  },
  {
   "cell_type": "markdown",
   "metadata": {},
   "source": [
    "This is the model SimpleRNN"
   ]
  },
  {
   "cell_type": "code",
   "execution_count": 76,
   "metadata": {},
   "outputs": [],
   "source": [
    "model.add(SimpleRNN(units= 320 ,return_sequences=True,input_shape=(max_len+1,max_column)))\n",
    "model.add(Dropout(0.25))\n",
    "model.add(SimpleRNN(units= 400,return_sequences=True))\n",
    "# model.add(Dropout(0.25))\n",
    "model.add(SimpleRNN(units= 100))\n",
    "model.add(Dense(units=128,activation='relu'))\n",
    "model.add(Dropout(0.25))\n",
    "#model.add(Dense(units=64,activation='relu'))\n",
    "model.add(Dense(units=num_labels,activation='softmax'))\n",
    "\n",
    "###SimpleRNN\n",
    "###Bidirectional(GRU)\n",
    "#model.add(GRU(units= 128,return_sequences=True)"
   ]
  },
  {
   "cell_type": "markdown",
   "metadata": {},
   "source": [
    "Define losss function"
   ]
  },
  {
   "cell_type": "code",
   "execution_count": 77,
   "metadata": {},
   "outputs": [],
   "source": [
    "model.compile(optimizer='adam',loss=keras.losses.categorical_crossentropy,metrics=['accuracy'])"
   ]
  },
  {
   "cell_type": "markdown",
   "metadata": {},
   "source": [
    "Fit the model"
   ]
  },
  {
   "cell_type": "code",
   "execution_count": 78,
   "metadata": {},
   "outputs": [
    {
     "name": "stdout",
     "output_type": "stream",
     "text": [
      "Epoch 1/20\n",
      "5/5 [==============================] - 3s 132ms/step - loss: 2.9037 - accuracy: 0.0417 - val_loss: 2.6054 - val_accuracy: 0.0833\n",
      "Epoch 2/20\n",
      "5/5 [==============================] - 0s 39ms/step - loss: 2.7348 - accuracy: 0.0521 - val_loss: 2.5617 - val_accuracy: 0.0833\n",
      "Epoch 3/20\n",
      "5/5 [==============================] - 0s 35ms/step - loss: 2.6516 - accuracy: 0.0625 - val_loss: 2.5453 - val_accuracy: 0.0833\n",
      "Epoch 4/20\n",
      "5/5 [==============================] - 0s 41ms/step - loss: 2.6411 - accuracy: 0.0833 - val_loss: 2.5490 - val_accuracy: 0.0833\n",
      "Epoch 5/20\n",
      "5/5 [==============================] - 0s 40ms/step - loss: 2.6397 - accuracy: 0.0521 - val_loss: 2.5450 - val_accuracy: 0.0833\n",
      "Epoch 6/20\n",
      "5/5 [==============================] - 0s 36ms/step - loss: 2.6336 - accuracy: 0.0625 - val_loss: 2.5537 - val_accuracy: 0.0833\n",
      "Epoch 7/20\n",
      "5/5 [==============================] - 0s 36ms/step - loss: 2.6297 - accuracy: 0.0625 - val_loss: 2.5637 - val_accuracy: 0.0833\n",
      "Epoch 8/20\n",
      "5/5 [==============================] - 0s 37ms/step - loss: 2.6178 - accuracy: 0.0938 - val_loss: 2.5571 - val_accuracy: 0.0833\n",
      "Epoch 9/20\n",
      "5/5 [==============================] - 0s 35ms/step - loss: 2.5964 - accuracy: 0.0521 - val_loss: 2.5500 - val_accuracy: 0.0833\n",
      "Epoch 10/20\n",
      "5/5 [==============================] - 0s 48ms/step - loss: 2.5662 - accuracy: 0.1146 - val_loss: 2.5553 - val_accuracy: 0.0833\n",
      "Epoch 11/20\n",
      "5/5 [==============================] - 0s 45ms/step - loss: 2.5400 - accuracy: 0.1250 - val_loss: 2.5492 - val_accuracy: 0.0833\n",
      "Epoch 12/20\n",
      "5/5 [==============================] - 0s 41ms/step - loss: 2.6067 - accuracy: 0.0625 - val_loss: 2.5451 - val_accuracy: 0.0833\n",
      "Epoch 13/20\n",
      "5/5 [==============================] - 0s 49ms/step - loss: 2.5927 - accuracy: 0.0312 - val_loss: 2.5372 - val_accuracy: 0.0833\n",
      "Epoch 14/20\n",
      "5/5 [==============================] - 0s 42ms/step - loss: 2.5597 - accuracy: 0.0521 - val_loss: 2.5333 - val_accuracy: 0.0833\n",
      "Epoch 15/20\n",
      "5/5 [==============================] - 0s 59ms/step - loss: 2.5613 - accuracy: 0.0938 - val_loss: 2.5270 - val_accuracy: 0.0833\n",
      "Epoch 16/20\n",
      "5/5 [==============================] - 0s 37ms/step - loss: 2.5591 - accuracy: 0.0833 - val_loss: 2.5193 - val_accuracy: 0.0833\n",
      "Epoch 17/20\n",
      "5/5 [==============================] - 0s 40ms/step - loss: 2.5371 - accuracy: 0.0833 - val_loss: 2.5179 - val_accuracy: 0.0833\n",
      "Epoch 18/20\n",
      "5/5 [==============================] - 0s 33ms/step - loss: 2.5348 - accuracy: 0.1250 - val_loss: 2.5204 - val_accuracy: 0.0833\n",
      "Epoch 19/20\n",
      "5/5 [==============================] - 0s 32ms/step - loss: 2.5982 - accuracy: 0.0417 - val_loss: 2.5210 - val_accuracy: 0.0833\n",
      "Epoch 20/20\n",
      "5/5 [==============================] - 0s 32ms/step - loss: 2.5887 - accuracy: 0.0938 - val_loss: 2.5245 - val_accuracy: 0.0833\n"
     ]
    }
   ],
   "source": [
    "result=model.fit(x_array,y_array_c,epochs=20,batch_size=20,validation_split=0.2, shuffle=True)\n",
    "#batch_size=20,validation_split=0.2"
   ]
  },
  {
   "cell_type": "markdown",
   "metadata": {},
   "source": [
    "Predict some values"
   ]
  },
  {
   "cell_type": "code",
   "execution_count": 79,
   "metadata": {},
   "outputs": [
    {
     "name": "stdout",
     "output_type": "stream",
     "text": [
      "1/1 [==============================] - 0s 434ms/step\n"
     ]
    }
   ],
   "source": [
    "predicted = model.predict(x_array[2:8])"
   ]
  },
  {
   "cell_type": "code",
   "execution_count": 80,
   "metadata": {},
   "outputs": [
    {
     "data": {
      "text/plain": [
       "array([0.06136221, 0.07104018, 0.07640945, 0.08456101, 0.10861189,\n",
       "       0.08344835, 0.07355946, 0.08630357, 0.0665158 , 0.11349642,\n",
       "       0.09018833, 0.08450334], dtype=float32)"
      ]
     },
     "execution_count": 80,
     "metadata": {},
     "output_type": "execute_result"
    }
   ],
   "source": [
    "predicted[0]"
   ]
  },
  {
   "cell_type": "code",
   "execution_count": 81,
   "metadata": {},
   "outputs": [],
   "source": [
    "predicted_labels = np.argmax(predicted, axis=1)"
   ]
  },
  {
   "cell_type": "markdown",
   "metadata": {},
   "source": [
    "Find the accuracy"
   ]
  },
  {
   "cell_type": "code",
   "execution_count": 82,
   "metadata": {},
   "outputs": [],
   "source": [
    "training_accuracy = result.history['accuracy']\n",
    "validation_accuracy = result.history['val_accuracy']\n"
   ]
  },
  {
   "cell_type": "code",
   "execution_count": 83,
   "metadata": {},
   "outputs": [
    {
     "name": "stdout",
     "output_type": "stream",
     "text": [
      "final training accuracy =  0.09375\n",
      "final testing accuracy =  0.0833333358168602\n"
     ]
    }
   ],
   "source": [
    "print( \"final training accuracy = \",training_accuracy[-1])\n",
    "print( \"final testing accuracy = \",validation_accuracy[-1])"
   ]
  },
  {
   "cell_type": "code",
   "execution_count": 84,
   "metadata": {},
   "outputs": [
    {
     "name": "stdout",
     "output_type": "stream",
     "text": [
      "maximum training accuracy =  0.125\n",
      "maximum testing accuracy =  0.0833333358168602\n"
     ]
    }
   ],
   "source": [
    "print( \"maximum training accuracy = \",max(training_accuracy))\n",
    "print( \"maximum testing accuracy = \",max(validation_accuracy))"
   ]
  },
  {
   "cell_type": "markdown",
   "metadata": {},
   "source": [
    "Save the model"
   ]
  },
  {
   "cell_type": "code",
   "execution_count": 44,
   "metadata": {},
   "outputs": [],
   "source": [
    "model.save(\"SimpleRNN_model_3.h5\")"
   ]
  },
  {
   "cell_type": "code",
   "execution_count": null,
   "metadata": {},
   "outputs": [],
   "source": []
  }
 ],
 "metadata": {
  "kernelspec": {
   "display_name": "Python 3",
   "language": "python",
   "name": "python3"
  },
  "language_info": {
   "codemirror_mode": {
    "name": "ipython",
    "version": 3
   },
   "file_extension": ".py",
   "mimetype": "text/x-python",
   "name": "python",
   "nbconvert_exporter": "python",
   "pygments_lexer": "ipython3",
   "version": "3.11.3"
  }
 },
 "nbformat": 4,
 "nbformat_minor": 2
}
