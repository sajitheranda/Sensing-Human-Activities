{
 "cells": [
  {
   "cell_type": "markdown",
   "metadata": {},
   "source": [
    "### RNN Assignment"
   ]
  },
  {
   "cell_type": "markdown",
   "metadata": {},
   "source": [
    "import needed libraries"
   ]
  },
  {
   "cell_type": "code",
   "execution_count": 141,
   "metadata": {},
   "outputs": [],
   "source": [
    "import numpy as np\n",
    "import pandas as pd\n",
    "from keras.utils.np_utils import to_categorical\n",
    "from keras.layers import GRU, Dropout\n",
    "from keras.models import Sequential\n",
    "from keras.layers import LSTM, SimpleRNN, Dense\n",
    "import keras"
   ]
  },
  {
   "cell_type": "markdown",
   "metadata": {},
   "source": [
    "import data"
   ]
  },
  {
   "cell_type": "markdown",
   "metadata": {},
   "source": [
    "get max length"
   ]
  },
  {
   "cell_type": "code",
   "execution_count": 142,
   "metadata": {},
   "outputs": [],
   "source": [
    "max_len=0\n",
    "all_data_x=[]\n",
    "all_data_y=[]\n",
    "for subject_id in range(1, 11):\n",
    "    file_name = f\"mHealth_subject{subject_id}.log\"\n",
    "    \n",
    "    with open(file_name, \"r\", encoding=\"utf8\") as file:\n",
    "        count={}\n",
    "        prev_label=0\n",
    "        data=[]\n",
    "        for line in file:\n",
    "            tokens = line.split()\n",
    "            label = int(tokens[-1])\n",
    "            if(label!= 0):\n",
    "                if(prev_label!=label and prev_label!=0):\n",
    "                    all_data_x.append(data)\n",
    "                    all_data_y.append(prev_label)\n",
    "                    count[prev_label]=len(data)\n",
    "                           \n",
    "                columns=len(tokens)-1\n",
    "                if(prev_label !=label):\n",
    "                    data+=[tokens[:-1]]\n",
    "                prev_label=label\n",
    "            \n",
    "        # print(count)\n",
    "        all_data_x.append(data)\n",
    "        all_data_y.append(prev_label)\n",
    "        count[prev_label]=len(data)\n",
    "        for value in count.values():\n",
    "            if(value>max_len):\n",
    "                max_len=value\n",
    "                "
   ]
  },
  {
   "cell_type": "markdown",
   "metadata": {},
   "source": [
    "print the maximum length"
   ]
  },
  {
   "cell_type": "code",
   "execution_count": 143,
   "metadata": {},
   "outputs": [
    {
     "name": "stdout",
     "output_type": "stream",
     "text": [
      "maximun lenth of data = 12\n"
     ]
    }
   ],
   "source": [
    "print(\"maximun lenth of data =\",max_len)"
   ]
  },
  {
   "cell_type": "code",
   "execution_count": 144,
   "metadata": {},
   "outputs": [],
   "source": [
    "max_column=23 ## using question\n",
    "num_labels=12\n",
    "data_count=10*num_labels"
   ]
  },
  {
   "cell_type": "code",
   "execution_count": 145,
   "metadata": {},
   "outputs": [],
   "source": [
    "def get_em_data(data,max_len,max_column):\n",
    "    embedding_data= np.zeros((len(data), max_len, max_column))\n",
    "    \n",
    "    for index in range(len(data)):\n",
    "        num_times=len(data[index])\n",
    "        for i in range(num_times):\n",
    "            embedding_data[index][i]= np.array(data[index][i], dtype=float)\n",
    "    return embedding_data"
   ]
  },
  {
   "cell_type": "markdown",
   "metadata": {},
   "source": [
    "Convert into numpy array"
   ]
  },
  {
   "cell_type": "code",
   "execution_count": 146,
   "metadata": {},
   "outputs": [],
   "source": [
    "y_array=np.array(all_data_y)"
   ]
  },
  {
   "cell_type": "markdown",
   "metadata": {},
   "source": [
    "print a sample array"
   ]
  },
  {
   "cell_type": "code",
   "execution_count": 147,
   "metadata": {},
   "outputs": [
    {
     "data": {
      "text/plain": [
       "array([ 1,  2,  3,  4,  6,  7,  8,  9, 10, 11, 12,  5,  5,  1,  2,  3,  4,\n",
       "        6,  7,  8, 10, 11, 12,  9,  1,  2,  3,  4,  6,  7,  8,  9, 10, 11,\n",
       "       12,  5,  5,  1,  2,  3,  4,  6,  7,  8,  9, 10, 11, 12,  1,  2,  3,\n",
       "        4,  6,  7,  8,  9, 10, 11, 12,  5,  1,  2,  3,  4,  6,  7,  8,  9,\n",
       "       10, 11, 12,  5,  5,  1,  2,  3,  4,  6,  7,  8,  9, 10, 11, 12,  1,\n",
       "        3,  2,  4,  5,  6,  7,  8,  9, 10, 11, 12,  1,  2,  3,  4,  6,  7,\n",
       "        8,  9, 10, 11, 12,  5,  5,  1,  2,  3,  4,  6,  7,  8,  9, 10, 11,\n",
       "       12])"
      ]
     },
     "execution_count": 147,
     "metadata": {},
     "output_type": "execute_result"
    }
   ],
   "source": [
    "y_array"
   ]
  },
  {
   "cell_type": "code",
   "execution_count": 148,
   "metadata": {},
   "outputs": [],
   "source": [
    "x_array=get_em_data(all_data_x,max_len +1,max_column)"
   ]
  },
  {
   "cell_type": "markdown",
   "metadata": {},
   "source": [
    "convert to categorical"
   ]
  },
  {
   "cell_type": "code",
   "execution_count": 149,
   "metadata": {},
   "outputs": [],
   "source": [
    "y_convert =y_array-1\n",
    "y_array_c = to_categorical(y_convert)\n"
   ]
  },
  {
   "cell_type": "markdown",
   "metadata": {},
   "source": [
    "create a model"
   ]
  },
  {
   "cell_type": "code",
   "execution_count": 150,
   "metadata": {},
   "outputs": [],
   "source": [
    "model = Sequential()"
   ]
  },
  {
   "cell_type": "code",
   "execution_count": 151,
   "metadata": {},
   "outputs": [
    {
     "name": "stdout",
     "output_type": "stream",
     "text": [
      "23\n"
     ]
    }
   ],
   "source": [
    "print(max_column)"
   ]
  },
  {
   "cell_type": "markdown",
   "metadata": {},
   "source": [
    "This is the model LSTM"
   ]
  },
  {
   "cell_type": "code",
   "execution_count": 152,
   "metadata": {},
   "outputs": [],
   "source": [
    "model.add(LSTM(units= 256 ,return_sequences=True,input_shape=(max_len+1,max_column)))\n",
    "model.add(Dropout(0.25))\n",
    "model.add(LSTM(units= 512,return_sequences=True))\n",
    "model.add(Dropout(0.25))\n",
    "model.add(LSTM(units= 64))\n",
    "model.add(Dropout(0.25))\n",
    "model.add(Dense(units=128,activation='relu'))\n",
    "model.add(Dropout(0.25))\n",
    "model.add(Dense(units=64,activation='relu'))\n",
    "model.add(Dense(units=num_labels,activation='softmax'))\n",
    "\n",
    "###SimpleRNN\n",
    "###Bidirectional(GRU)\n",
    "#model.add(GRU(units= 128,return_sequences=True)"
   ]
  },
  {
   "cell_type": "markdown",
   "metadata": {},
   "source": [
    "Define losss function"
   ]
  },
  {
   "cell_type": "code",
   "execution_count": 153,
   "metadata": {},
   "outputs": [],
   "source": [
    "model.compile(optimizer='adam',loss=keras.losses.categorical_crossentropy,metrics=['accuracy'])"
   ]
  },
  {
   "cell_type": "markdown",
   "metadata": {},
   "source": [
    "Fit the model"
   ]
  },
  {
   "cell_type": "code",
   "execution_count": 155,
   "metadata": {},
   "outputs": [
    {
     "name": "stdout",
     "output_type": "stream",
     "text": [
      "Epoch 1/50\n",
      "5/5 [==============================] - 1s 204ms/step - loss: 2.4934 - accuracy: 0.0729 - val_loss: 2.4855 - val_accuracy: 0.0833\n",
      "Epoch 2/50\n",
      "5/5 [==============================] - 1s 229ms/step - loss: 2.4818 - accuracy: 0.0521 - val_loss: 2.4856 - val_accuracy: 0.0833\n",
      "Epoch 3/50\n",
      "5/5 [==============================] - 1s 207ms/step - loss: 2.4884 - accuracy: 0.1042 - val_loss: 2.4853 - val_accuracy: 0.0833\n",
      "Epoch 4/50\n",
      "5/5 [==============================] - 1s 226ms/step - loss: 2.4999 - accuracy: 0.0625 - val_loss: 2.4853 - val_accuracy: 0.0833\n",
      "Epoch 5/50\n",
      "5/5 [==============================] - 1s 199ms/step - loss: 2.4832 - accuracy: 0.1250 - val_loss: 2.4854 - val_accuracy: 0.0833\n",
      "Epoch 6/50\n",
      "5/5 [==============================] - 1s 207ms/step - loss: 2.4929 - accuracy: 0.0625 - val_loss: 2.4855 - val_accuracy: 0.0833\n",
      "Epoch 7/50\n",
      "5/5 [==============================] - 1s 182ms/step - loss: 2.4917 - accuracy: 0.1042 - val_loss: 2.4853 - val_accuracy: 0.0833\n",
      "Epoch 8/50\n",
      "5/5 [==============================] - 1s 192ms/step - loss: 2.4863 - accuracy: 0.1146 - val_loss: 2.4853 - val_accuracy: 0.0833\n",
      "Epoch 9/50\n",
      "5/5 [==============================] - 1s 241ms/step - loss: 2.4825 - accuracy: 0.0729 - val_loss: 2.4853 - val_accuracy: 0.0833\n",
      "Epoch 10/50\n",
      "5/5 [==============================] - 1s 166ms/step - loss: 2.4982 - accuracy: 0.0521 - val_loss: 2.4856 - val_accuracy: 0.0833\n",
      "Epoch 11/50\n",
      "5/5 [==============================] - 1s 203ms/step - loss: 2.4874 - accuracy: 0.0625 - val_loss: 2.4857 - val_accuracy: 0.0833\n",
      "Epoch 12/50\n",
      "5/5 [==============================] - 1s 218ms/step - loss: 2.4867 - accuracy: 0.1042 - val_loss: 2.4860 - val_accuracy: 0.0833\n",
      "Epoch 13/50\n",
      "5/5 [==============================] - 1s 176ms/step - loss: 2.4876 - accuracy: 0.0417 - val_loss: 2.4864 - val_accuracy: 0.0833\n",
      "Epoch 14/50\n",
      "5/5 [==============================] - 1s 205ms/step - loss: 2.5032 - accuracy: 0.0521 - val_loss: 2.4863 - val_accuracy: 0.0833\n",
      "Epoch 15/50\n",
      "5/5 [==============================] - 1s 217ms/step - loss: 2.4995 - accuracy: 0.0521 - val_loss: 2.4862 - val_accuracy: 0.0833\n",
      "Epoch 16/50\n",
      "5/5 [==============================] - 1s 177ms/step - loss: 2.4919 - accuracy: 0.1042 - val_loss: 2.4854 - val_accuracy: 0.0833\n",
      "Epoch 17/50\n",
      "5/5 [==============================] - 1s 171ms/step - loss: 2.4918 - accuracy: 0.0521 - val_loss: 2.4852 - val_accuracy: 0.0833\n",
      "Epoch 18/50\n",
      "5/5 [==============================] - 1s 167ms/step - loss: 2.4869 - accuracy: 0.1146 - val_loss: 2.4852 - val_accuracy: 0.0833\n",
      "Epoch 19/50\n",
      "5/5 [==============================] - 1s 167ms/step - loss: 2.4763 - accuracy: 0.1354 - val_loss: 2.4852 - val_accuracy: 0.0833\n",
      "Epoch 20/50\n",
      "5/5 [==============================] - 1s 165ms/step - loss: 2.5027 - accuracy: 0.0625 - val_loss: 2.4853 - val_accuracy: 0.0833\n",
      "Epoch 21/50\n",
      "5/5 [==============================] - 1s 167ms/step - loss: 2.4942 - accuracy: 0.0208 - val_loss: 2.4852 - val_accuracy: 0.0833\n",
      "Epoch 22/50\n",
      "5/5 [==============================] - 1s 178ms/step - loss: 2.4847 - accuracy: 0.0938 - val_loss: 2.4851 - val_accuracy: 0.0833\n",
      "Epoch 23/50\n",
      "5/5 [==============================] - 1s 178ms/step - loss: 2.4910 - accuracy: 0.0625 - val_loss: 2.4855 - val_accuracy: 0.0833\n",
      "Epoch 24/50\n",
      "5/5 [==============================] - 1s 166ms/step - loss: 2.4863 - accuracy: 0.0312 - val_loss: 2.4855 - val_accuracy: 0.0833\n",
      "Epoch 25/50\n",
      "5/5 [==============================] - 1s 169ms/step - loss: 2.4917 - accuracy: 0.0938 - val_loss: 2.4853 - val_accuracy: 0.0833\n",
      "Epoch 26/50\n",
      "5/5 [==============================] - 1s 172ms/step - loss: 2.4843 - accuracy: 0.0833 - val_loss: 2.4854 - val_accuracy: 0.0833\n",
      "Epoch 27/50\n",
      "5/5 [==============================] - 1s 166ms/step - loss: 2.4926 - accuracy: 0.0312 - val_loss: 2.4853 - val_accuracy: 0.0833\n",
      "Epoch 28/50\n",
      "5/5 [==============================] - 1s 169ms/step - loss: 2.4813 - accuracy: 0.0833 - val_loss: 2.4853 - val_accuracy: 0.0833\n",
      "Epoch 29/50\n",
      "5/5 [==============================] - 1s 167ms/step - loss: 2.4881 - accuracy: 0.1146 - val_loss: 2.4851 - val_accuracy: 0.0833\n",
      "Epoch 30/50\n",
      "5/5 [==============================] - 1s 165ms/step - loss: 2.4857 - accuracy: 0.0938 - val_loss: 2.4852 - val_accuracy: 0.0833\n",
      "Epoch 31/50\n",
      "5/5 [==============================] - 1s 168ms/step - loss: 2.4853 - accuracy: 0.0521 - val_loss: 2.4853 - val_accuracy: 0.0833\n",
      "Epoch 32/50\n",
      "5/5 [==============================] - 1s 175ms/step - loss: 2.4813 - accuracy: 0.0417 - val_loss: 2.4853 - val_accuracy: 0.0833\n",
      "Epoch 33/50\n",
      "5/5 [==============================] - 1s 163ms/step - loss: 2.4848 - accuracy: 0.0729 - val_loss: 2.4852 - val_accuracy: 0.0833\n",
      "Epoch 34/50\n",
      "5/5 [==============================] - 1s 165ms/step - loss: 2.4907 - accuracy: 0.0938 - val_loss: 2.4854 - val_accuracy: 0.0833\n",
      "Epoch 35/50\n",
      "5/5 [==============================] - 1s 166ms/step - loss: 2.4879 - accuracy: 0.0729 - val_loss: 2.4855 - val_accuracy: 0.0833\n",
      "Epoch 36/50\n",
      "5/5 [==============================] - 1s 171ms/step - loss: 2.4916 - accuracy: 0.0312 - val_loss: 2.4856 - val_accuracy: 0.0833\n",
      "Epoch 37/50\n",
      "5/5 [==============================] - 1s 172ms/step - loss: 2.4935 - accuracy: 0.0729 - val_loss: 2.4856 - val_accuracy: 0.0833\n",
      "Epoch 38/50\n",
      "5/5 [==============================] - 1s 167ms/step - loss: 2.4925 - accuracy: 0.0729 - val_loss: 2.4855 - val_accuracy: 0.0833\n",
      "Epoch 39/50\n",
      "5/5 [==============================] - 1s 164ms/step - loss: 2.4880 - accuracy: 0.0521 - val_loss: 2.4855 - val_accuracy: 0.0833\n",
      "Epoch 40/50\n",
      "5/5 [==============================] - 1s 177ms/step - loss: 2.4882 - accuracy: 0.0521 - val_loss: 2.4855 - val_accuracy: 0.0833\n",
      "Epoch 41/50\n",
      "5/5 [==============================] - 1s 168ms/step - loss: 2.4882 - accuracy: 0.0729 - val_loss: 2.4855 - val_accuracy: 0.0833\n",
      "Epoch 42/50\n",
      "5/5 [==============================] - 1s 166ms/step - loss: 2.4787 - accuracy: 0.0938 - val_loss: 2.4855 - val_accuracy: 0.0833\n",
      "Epoch 43/50\n",
      "5/5 [==============================] - 1s 167ms/step - loss: 2.4882 - accuracy: 0.0938 - val_loss: 2.4854 - val_accuracy: 0.0833\n",
      "Epoch 44/50\n",
      "5/5 [==============================] - 1s 165ms/step - loss: 2.4978 - accuracy: 0.0625 - val_loss: 2.4853 - val_accuracy: 0.0833\n",
      "Epoch 45/50\n",
      "5/5 [==============================] - 1s 167ms/step - loss: 2.4830 - accuracy: 0.0938 - val_loss: 2.4852 - val_accuracy: 0.0833\n",
      "Epoch 46/50\n",
      "5/5 [==============================] - 1s 178ms/step - loss: 2.4835 - accuracy: 0.0938 - val_loss: 2.4852 - val_accuracy: 0.0833\n",
      "Epoch 47/50\n",
      "5/5 [==============================] - 1s 169ms/step - loss: 2.4893 - accuracy: 0.0729 - val_loss: 2.4853 - val_accuracy: 0.0833\n",
      "Epoch 48/50\n",
      "5/5 [==============================] - 1s 177ms/step - loss: 2.4883 - accuracy: 0.1146 - val_loss: 2.4854 - val_accuracy: 0.0833\n",
      "Epoch 49/50\n",
      "5/5 [==============================] - 1s 198ms/step - loss: 2.4840 - accuracy: 0.1146 - val_loss: 2.4854 - val_accuracy: 0.0833\n",
      "Epoch 50/50\n",
      "5/5 [==============================] - 1s 179ms/step - loss: 2.4859 - accuracy: 0.0729 - val_loss: 2.4853 - val_accuracy: 0.0833\n"
     ]
    }
   ],
   "source": [
    "result=model.fit(x_array,y_array_c,epochs=20,batch_size=20,validation_split=0.2, shuffle=True)\n",
    "#batch_size=20,validation_split=0.2"
   ]
  },
  {
   "cell_type": "markdown",
   "metadata": {},
   "source": [
    "Predict some values"
   ]
  },
  {
   "cell_type": "code",
   "execution_count": 164,
   "metadata": {},
   "outputs": [
    {
     "name": "stdout",
     "output_type": "stream",
     "text": [
      "1/1 [==============================] - 0s 83ms/step\n"
     ]
    }
   ],
   "source": [
    "predicted = model.predict(x_array[2:8])"
   ]
  },
  {
   "cell_type": "code",
   "execution_count": 165,
   "metadata": {},
   "outputs": [
    {
     "data": {
      "text/plain": [
       "array([0.08792985, 0.0859952 , 0.08033592, 0.08250325, 0.08043326,\n",
       "       0.08550989, 0.08530441, 0.08192568, 0.08191549, 0.08557224,\n",
       "       0.08124387, 0.08133093], dtype=float32)"
      ]
     },
     "execution_count": 165,
     "metadata": {},
     "output_type": "execute_result"
    }
   ],
   "source": [
    "predicted[0]"
   ]
  },
  {
   "cell_type": "code",
   "execution_count": 166,
   "metadata": {},
   "outputs": [],
   "source": [
    "predicted_labels = np.argmax(predicted, axis=1)"
   ]
  },
  {
   "cell_type": "markdown",
   "metadata": {},
   "source": [
    "Find the accuracy"
   ]
  },
  {
   "cell_type": "code",
   "execution_count": 167,
   "metadata": {},
   "outputs": [],
   "source": [
    "training_accuracy = result.history['accuracy']\n",
    "validation_accuracy = result.history['val_accuracy']\n"
   ]
  },
  {
   "cell_type": "code",
   "execution_count": 168,
   "metadata": {},
   "outputs": [
    {
     "name": "stdout",
     "output_type": "stream",
     "text": [
      "final training accuracy =  0.0729166641831398\n",
      "final testing accuracy =  0.0833333358168602\n"
     ]
    }
   ],
   "source": [
    "print( \"final training accuracy = \",training_accuracy[-1])\n",
    "print( \"final testing accuracy = \",validation_accuracy[-1])"
   ]
  },
  {
   "cell_type": "code",
   "execution_count": 169,
   "metadata": {},
   "outputs": [
    {
     "name": "stdout",
     "output_type": "stream",
     "text": [
      "maximum training accuracy =  0.1354166716337204\n",
      "maximum testing accuracy =  0.0833333358168602\n"
     ]
    }
   ],
   "source": [
    "print( \"maximum training accuracy = \",max(training_accuracy))\n",
    "print( \"maximum testing accuracy = \",max(validation_accuracy))"
   ]
  },
  {
   "cell_type": "markdown",
   "metadata": {},
   "source": [
    "Save the model"
   ]
  },
  {
   "cell_type": "code",
   "execution_count": 170,
   "metadata": {},
   "outputs": [],
   "source": [
    "model.save(\"LSTM_model_3.h5\")"
   ]
  },
  {
   "cell_type": "code",
   "execution_count": null,
   "metadata": {},
   "outputs": [],
   "source": []
  }
 ],
 "metadata": {
  "kernelspec": {
   "display_name": "Python 3",
   "language": "python",
   "name": "python3"
  },
  "language_info": {
   "codemirror_mode": {
    "name": "ipython",
    "version": 3
   },
   "file_extension": ".py",
   "mimetype": "text/x-python",
   "name": "python",
   "nbconvert_exporter": "python",
   "pygments_lexer": "ipython3",
   "version": "3.11.3"
  }
 },
 "nbformat": 4,
 "nbformat_minor": 2
}
