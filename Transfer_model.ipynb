{
 "cells": [
  {
   "cell_type": "markdown",
   "metadata": {},
   "source": [
    "### RNN Assignment"
   ]
  },
  {
   "cell_type": "markdown",
   "metadata": {},
   "source": [
    "import needed libraries"
   ]
  },
  {
   "cell_type": "code",
   "execution_count": 29,
   "metadata": {},
   "outputs": [],
   "source": [
    "import numpy as np\n",
    "import pandas as pd\n",
    "from keras.utils.np_utils import to_categorical\n",
    "from keras.layers import GRU, Dropout\n",
    "from keras.models import Sequential\n",
    "from keras.layers import LSTM, SimpleRNN, Dense,Bidirectional\n",
    "import keras\n",
    "import tensorflow as tf\n",
    "from transformers import TFBertForSequenceClassification, BertTokenizer\n",
    "from tensorflow.keras.applications import VGG19\n",
    "from transformers import TFAutoModel, AutoTokenizer\n",
    "from tensorflow.keras.models import Model"
   ]
  },
  {
   "cell_type": "markdown",
   "metadata": {},
   "source": [
    "import data"
   ]
  },
  {
   "cell_type": "markdown",
   "metadata": {},
   "source": [
    "get max length"
   ]
  },
  {
   "cell_type": "code",
   "execution_count": 16,
   "metadata": {},
   "outputs": [],
   "source": [
    "max_len=0\n",
    "all_data_x=[]\n",
    "all_data_y=[]\n",
    "for subject_id in range(1, 11):\n",
    "    file_name = f\"mHealth_subject{subject_id}.log\"\n",
    "    \n",
    "    with open(file_name, \"r\", encoding=\"utf8\") as file:\n",
    "        count={}\n",
    "        prev_label=0\n",
    "        data=[]\n",
    "        for line in file:\n",
    "            tokens = line.split()\n",
    "            label = int(tokens[-1])\n",
    "            if(label!= 0):\n",
    "                if(prev_label!=label and prev_label!=0):\n",
    "                    all_data_x.append(data)\n",
    "                    all_data_y.append(prev_label)\n",
    "                    count[prev_label]=len(data)\n",
    "                           \n",
    "                columns=len(tokens)-1\n",
    "                if(prev_label !=label):\n",
    "                    data+=[tokens[:-1]]\n",
    "                prev_label=label\n",
    "            \n",
    "        # print(count)\n",
    "        all_data_x.append(data)\n",
    "        all_data_y.append(prev_label)\n",
    "        count[prev_label]=len(data)\n",
    "        for value in count.values():\n",
    "            if(value>max_len):\n",
    "                max_len=value\n",
    "                "
   ]
  },
  {
   "cell_type": "markdown",
   "metadata": {},
   "source": [
    "print the maximum length"
   ]
  },
  {
   "cell_type": "code",
   "execution_count": 17,
   "metadata": {},
   "outputs": [
    {
     "name": "stdout",
     "output_type": "stream",
     "text": [
      "maximun lenth of data = 12\n"
     ]
    }
   ],
   "source": [
    "print(\"maximun lenth of data =\",max_len)"
   ]
  },
  {
   "cell_type": "code",
   "execution_count": 18,
   "metadata": {},
   "outputs": [],
   "source": [
    "max_column=23 ## using question\n",
    "num_labels=12\n",
    "data_count=10*num_labels"
   ]
  },
  {
   "cell_type": "code",
   "execution_count": 19,
   "metadata": {},
   "outputs": [],
   "source": [
    "def get_em_data(data,max_len,max_column):\n",
    "    embedding_data= np.zeros((len(data), max_len, max_column))\n",
    "    \n",
    "    for index in range(len(data)):\n",
    "        num_times=len(data[index])\n",
    "        for i in range(num_times):\n",
    "            embedding_data[index][i]= np.array(data[index][i], dtype=float)\n",
    "    return embedding_data"
   ]
  },
  {
   "cell_type": "markdown",
   "metadata": {},
   "source": [
    "Convert into numpy array"
   ]
  },
  {
   "cell_type": "code",
   "execution_count": 20,
   "metadata": {},
   "outputs": [],
   "source": [
    "y_array=np.array(all_data_y)"
   ]
  },
  {
   "cell_type": "markdown",
   "metadata": {},
   "source": [
    "print a sample array"
   ]
  },
  {
   "cell_type": "code",
   "execution_count": 21,
   "metadata": {},
   "outputs": [
    {
     "data": {
      "text/plain": [
       "array([ 1,  2,  3,  4,  6,  7,  8,  9, 10, 11, 12,  5,  5,  1,  2,  3,  4,\n",
       "        6,  7,  8, 10, 11, 12,  9,  1,  2,  3,  4,  6,  7,  8,  9, 10, 11,\n",
       "       12,  5,  5,  1,  2,  3,  4,  6,  7,  8,  9, 10, 11, 12,  1,  2,  3,\n",
       "        4,  6,  7,  8,  9, 10, 11, 12,  5,  1,  2,  3,  4,  6,  7,  8,  9,\n",
       "       10, 11, 12,  5,  5,  1,  2,  3,  4,  6,  7,  8,  9, 10, 11, 12,  1,\n",
       "        3,  2,  4,  5,  6,  7,  8,  9, 10, 11, 12,  1,  2,  3,  4,  6,  7,\n",
       "        8,  9, 10, 11, 12,  5,  5,  1,  2,  3,  4,  6,  7,  8,  9, 10, 11,\n",
       "       12])"
      ]
     },
     "execution_count": 21,
     "metadata": {},
     "output_type": "execute_result"
    }
   ],
   "source": [
    "y_array"
   ]
  },
  {
   "cell_type": "code",
   "execution_count": 22,
   "metadata": {},
   "outputs": [],
   "source": [
    "x_array=get_em_data(all_data_x,max_len +1,max_column)"
   ]
  },
  {
   "cell_type": "markdown",
   "metadata": {},
   "source": [
    "convert to categorical"
   ]
  },
  {
   "cell_type": "code",
   "execution_count": 23,
   "metadata": {},
   "outputs": [],
   "source": [
    "y_convert =y_array-1\n",
    "y_array_c = to_categorical(y_convert)\n"
   ]
  },
  {
   "cell_type": "markdown",
   "metadata": {},
   "source": [
    "create a model"
   ]
  },
  {
   "cell_type": "code",
   "execution_count": 24,
   "metadata": {},
   "outputs": [
    {
     "name": "stdout",
     "output_type": "stream",
     "text": [
      "23\n"
     ]
    }
   ],
   "source": [
    "print(max_column)"
   ]
  },
  {
   "cell_type": "markdown",
   "metadata": {},
   "source": [
    "This is the model GRU"
   ]
  },
  {
   "cell_type": "code",
   "execution_count": null,
   "metadata": {},
   "outputs": [],
   "source": [
    "\n",
    "\n",
    "# Load the pre-trained model and tokenizer (e.g., BERT)\n",
    "model_name = \"bert-base-uncased\"\n",
    "tokenizer = AutoTokenizer.from_pretrained(model_name)\n",
    "pretrained_model = TFAutoModel.from_pretrained(model_name)\n",
    "\n",
    "# Remove the original output layers\n",
    "output_layer = pretrained_model.layers[-1]\n",
    "pretrained_model = Model(pretrained_model.input, output_layer.input)\n",
    "\n",
    "# Add new layers for your target task\n",
    "x = Dense(units=num_labels, activation='softmax')(pretrained_model.output)\n",
    "\n",
    "# Create a new model\n",
    "model = Model(pretrained_model.input, x)\n",
    "\n"
   ]
  },
  {
   "cell_type": "markdown",
   "metadata": {},
   "source": [
    "Define losss function"
   ]
  },
  {
   "cell_type": "code",
   "execution_count": null,
   "metadata": {},
   "outputs": [],
   "source": [
    "model.compile(optimizer='adam',loss=keras.losses.categorical_crossentropy,metrics=['accuracy'])"
   ]
  },
  {
   "cell_type": "markdown",
   "metadata": {},
   "source": [
    "Fit the model"
   ]
  },
  {
   "cell_type": "code",
   "execution_count": null,
   "metadata": {},
   "outputs": [
    {
     "name": "stdout",
     "output_type": "stream",
     "text": [
      "Epoch 1/20\n",
      "5/5 [==============================] - 16s 828ms/step - loss: 2.9101 - accuracy: 0.0312 - val_loss: 2.5247 - val_accuracy: 0.0833\n",
      "Epoch 2/20\n",
      "5/5 [==============================] - 2s 356ms/step - loss: 2.7298 - accuracy: 0.0312 - val_loss: 2.5427 - val_accuracy: 0.0833\n",
      "Epoch 3/20\n",
      "5/5 [==============================] - 2s 319ms/step - loss: 2.6311 - accuracy: 0.0521 - val_loss: 2.5153 - val_accuracy: 0.0833\n",
      "Epoch 4/20\n",
      "5/5 [==============================] - 2s 326ms/step - loss: 2.5476 - accuracy: 0.0417 - val_loss: 2.5080 - val_accuracy: 0.0833\n",
      "Epoch 5/20\n",
      "5/5 [==============================] - 2s 318ms/step - loss: 2.5438 - accuracy: 0.0833 - val_loss: 2.4905 - val_accuracy: 0.0833\n",
      "Epoch 6/20\n",
      "5/5 [==============================] - 2s 305ms/step - loss: 2.5134 - accuracy: 0.0625 - val_loss: 2.4922 - val_accuracy: 0.0833\n",
      "Epoch 7/20\n",
      "5/5 [==============================] - 2s 318ms/step - loss: 2.5152 - accuracy: 0.0833 - val_loss: 2.4926 - val_accuracy: 0.0833\n",
      "Epoch 8/20\n",
      "5/5 [==============================] - 2s 304ms/step - loss: 2.5092 - accuracy: 0.0625 - val_loss: 2.4867 - val_accuracy: 0.0833\n",
      "Epoch 9/20\n",
      "5/5 [==============================] - 2s 305ms/step - loss: 2.5082 - accuracy: 0.0729 - val_loss: 2.4892 - val_accuracy: 0.0833\n",
      "Epoch 10/20\n",
      "5/5 [==============================] - 2s 320ms/step - loss: 2.5027 - accuracy: 0.0729 - val_loss: 2.4861 - val_accuracy: 0.0833\n",
      "Epoch 11/20\n",
      "5/5 [==============================] - 2s 304ms/step - loss: 2.5153 - accuracy: 0.0417 - val_loss: 2.4905 - val_accuracy: 0.0833\n",
      "Epoch 12/20\n",
      "5/5 [==============================] - 2s 305ms/step - loss: 2.4990 - accuracy: 0.0833 - val_loss: 2.4859 - val_accuracy: 0.0833\n",
      "Epoch 13/20\n",
      "5/5 [==============================] - 2s 309ms/step - loss: 2.4967 - accuracy: 0.0625 - val_loss: 2.4875 - val_accuracy: 0.0833\n",
      "Epoch 14/20\n",
      "5/5 [==============================] - 2s 312ms/step - loss: 2.4950 - accuracy: 0.0417 - val_loss: 2.4866 - val_accuracy: 0.0833\n",
      "Epoch 15/20\n",
      "5/5 [==============================] - 2s 313ms/step - loss: 2.4959 - accuracy: 0.0833 - val_loss: 2.4871 - val_accuracy: 0.0833\n",
      "Epoch 16/20\n",
      "5/5 [==============================] - 2s 304ms/step - loss: 2.4961 - accuracy: 0.0521 - val_loss: 2.4853 - val_accuracy: 0.0833\n",
      "Epoch 17/20\n",
      "5/5 [==============================] - 2s 314ms/step - loss: 2.4919 - accuracy: 0.0729 - val_loss: 2.4870 - val_accuracy: 0.0833\n",
      "Epoch 18/20\n",
      "5/5 [==============================] - 2s 317ms/step - loss: 2.4951 - accuracy: 0.0833 - val_loss: 2.4871 - val_accuracy: 0.0833\n",
      "Epoch 19/20\n",
      "5/5 [==============================] - 2s 302ms/step - loss: 2.4963 - accuracy: 0.0729 - val_loss: 2.4866 - val_accuracy: 0.0833\n",
      "Epoch 20/20\n",
      "5/5 [==============================] - 2s 309ms/step - loss: 2.4944 - accuracy: 0.0833 - val_loss: 2.4866 - val_accuracy: 0.0833\n"
     ]
    }
   ],
   "source": [
    "result=model.fit(x_array,y_array_c,epochs=20,batch_size=20,validation_split=0.2, shuffle=True)\n",
    "#batch_size=20,validation_split=0.2"
   ]
  },
  {
   "cell_type": "markdown",
   "metadata": {},
   "source": [
    "Predict some values"
   ]
  },
  {
   "cell_type": "code",
   "execution_count": 48,
   "metadata": {},
   "outputs": [
    {
     "name": "stdout",
     "output_type": "stream",
     "text": [
      "1/1 [==============================] - 1s 920ms/step\n"
     ]
    }
   ],
   "source": [
    "predicted = model.predict(x_array[2:8])"
   ]
  },
  {
   "cell_type": "code",
   "execution_count": 49,
   "metadata": {},
   "outputs": [
    {
     "data": {
      "text/plain": [
       "array([0.09010875, 0.08765221, 0.07913466, 0.0820458 , 0.0762894 ,\n",
       "       0.08171646, 0.09436854, 0.07710967, 0.08104338, 0.08866577,\n",
       "       0.08502123, 0.07684417], dtype=float32)"
      ]
     },
     "execution_count": 49,
     "metadata": {},
     "output_type": "execute_result"
    }
   ],
   "source": [
    "predicted[0]"
   ]
  },
  {
   "cell_type": "code",
   "execution_count": 50,
   "metadata": {},
   "outputs": [],
   "source": [
    "predicted_labels = np.argmax(predicted, axis=1)"
   ]
  },
  {
   "cell_type": "markdown",
   "metadata": {},
   "source": [
    "Find the accuracy"
   ]
  },
  {
   "cell_type": "code",
   "execution_count": 67,
   "metadata": {},
   "outputs": [],
   "source": [
    "training_accuracy = result.history['accuracy']\n",
    "validation_accuracy = result.history['val_accuracy']\n"
   ]
  },
  {
   "cell_type": "code",
   "execution_count": 68,
   "metadata": {},
   "outputs": [
    {
     "name": "stdout",
     "output_type": "stream",
     "text": [
      "final training accuracy =  0.0833333358168602\n",
      "final testing accuracy =  0.0833333358168602\n"
     ]
    }
   ],
   "source": [
    "print( \"final training accuracy = \",training_accuracy[-1])\n",
    "print( \"final testing accuracy = \",validation_accuracy[-1])"
   ]
  },
  {
   "cell_type": "code",
   "execution_count": 69,
   "metadata": {},
   "outputs": [
    {
     "name": "stdout",
     "output_type": "stream",
     "text": [
      "maximum training accuracy =  0.0833333358168602\n",
      "maximum testing accuracy =  0.0833333358168602\n"
     ]
    }
   ],
   "source": [
    "print( \"maximum training accuracy = \",max(training_accuracy))\n",
    "print( \"maximum testing accuracy = \",max(validation_accuracy))"
   ]
  },
  {
   "cell_type": "markdown",
   "metadata": {},
   "source": [
    "Save the model"
   ]
  },
  {
   "cell_type": "code",
   "execution_count": 71,
   "metadata": {},
   "outputs": [],
   "source": [
    "model.save(\"Transfer_model_1.h5\")"
   ]
  },
  {
   "cell_type": "code",
   "execution_count": null,
   "metadata": {},
   "outputs": [],
   "source": []
  }
 ],
 "metadata": {
  "kernelspec": {
   "display_name": "Python 3",
   "language": "python",
   "name": "python3"
  },
  "language_info": {
   "codemirror_mode": {
    "name": "ipython",
    "version": 3
   },
   "file_extension": ".py",
   "mimetype": "text/x-python",
   "name": "python",
   "nbconvert_exporter": "python",
   "pygments_lexer": "ipython3",
   "version": "3.11.3"
  }
 },
 "nbformat": 4,
 "nbformat_minor": 2
}
